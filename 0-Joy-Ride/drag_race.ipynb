{
 "cells": [
  {
   "cell_type": "markdown",
   "metadata": {},
   "source": [
    "# Joy Ride - Part 1: Drag Race\n",
    "\n",
    "The goal here is to get you familiar with how to control the simulated car with code. To get started:\n",
    "\n",
    "1. Run the cell below this one by pressing `Ctrl + Enter`\n",
    "2. Click the button that says \"Launch Car Simulator\". A new tab should open in your browser.\n",
    "3. Arrange your tabs as shown below so that this notebook is on one side of the screen and the simulator is on the other. ![code next to simulator](https://i.imgur.com/zhPjERi.jpg)\n",
    "4. Run the cell (`Ctrl + Enter`) marked \"CODE CELL\". The car in the simulator should start moving. You should notice a problem...\n",
    "5. Press the **Reset** button in the simulator and then modify the code in the code cell. You should only need to change one line of code...\n",
    "6. When you think you've fixed the problem, run the code cell again. Did the car make it over the trees?"
   ]
  },
  {
   "cell_type": "code",
   "execution_count": 1,
   "metadata": {},
   "outputs": [
    {
     "data": {
      "text/html": [
       "<button id=\"launcher\">Launch Car Simulator</button>\n",
       "<script src=\"setupLauncher.js\"></script>\n",
       "\n",
       "# NOTE - depending on your computer it may take a few minutes for the \n",
       "#   simulator to load after you press the button! This time might \n",
       "#   be reduced if you use Google Chrome and close as many other tabs \n",
       "#   as possible"
      ],
      "text/plain": [
       "<IPython.core.display.HTML object>"
      ]
     },
     "metadata": {},
     "output_type": "display_data"
    }
   ],
   "source": [
    "%%HTML\n",
    "<button id=\"launcher\">Launch Car Simulator</button>\n",
    "<script src=\"setupLauncher.js\"></script>\n",
    "\n",
    "# NOTE - depending on your computer it may take a few minutes for the \n",
    "#   simulator to load after you press the button! This time might \n",
    "#   be reduced if you use Google Chrome and close as many other tabs \n",
    "#   as possible"
   ]
  },
  {
   "cell_type": "code",
   "execution_count": 2,
   "metadata": {},
   "outputs": [
    {
     "data": {
      "application/javascript": [
       "window.simulatorWindow.postMessage(\"steer:0.0\", \"*\");"
      ]
     },
     "metadata": {},
     "output_type": "display_data"
    },
    {
     "data": {
      "application/javascript": [
       "window.simulatorWindow.postMessage(\"throttle:0.5\", \"*\");"
      ]
     },
     "metadata": {},
     "output_type": "display_data"
    }
   ],
   "source": [
    "# CODE CELL\n",
    "# \n",
    "# This is the code you should \n",
    "# edit and run to control the car.\n",
    "\n",
    "from Car import Car # you don't need to change this line of code...\n",
    "\n",
    "def jump(car):\n",
    "    # TODO - make modifications in this function\n",
    "    #   so that your car makes it safely over the trees.\n",
    "    \n",
    "    car.steer(0.0) # any value between -25 and 25 works here for\n",
    "                   # steering angle (in degrees)\n",
    "        \n",
    "    car.gas(0.5)   # any value between -1.0 (full reverse) and \n",
    "                   # 1.0 (full throttle) works here\n",
    "    \n",
    "car = Car()  \n",
    "jump(car)"
   ]
  }
 ],
 "metadata": {
  "kernelspec": {
   "display_name": "Python 3",
   "language": "python",
   "name": "python3"
  },
  "language_info": {
   "codemirror_mode": {
    "name": "ipython",
    "version": 3
   },
   "file_extension": ".py",
   "mimetype": "text/x-python",
   "name": "python",
   "nbconvert_exporter": "python",
   "pygments_lexer": "ipython3",
   "version": "3.6.5"
  }
 },
 "nbformat": 4,
 "nbformat_minor": 2
}
